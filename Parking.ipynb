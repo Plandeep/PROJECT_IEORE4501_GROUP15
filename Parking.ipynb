{
 "cells": [
  {
   "cell_type": "code",
   "execution_count": 2,
   "id": "b8bbfdab-025e-4848-88f4-231a167af694",
   "metadata": {},
   "outputs": [],
   "source": [
    "import csv\n",
    "import numpy as np\n",
    "import pandas as pd\n",
    "\n",
    "\n",
    "\n",
    "\n",
    "df = pd.read_csv(\"311_Service_Requests_2020.csv\")"
   ]
  },
  {
   "cell_type": "code",
   "execution_count": 39,
   "id": "ea0ece5d-99b6-478b-9e65-d389318d624b",
   "metadata": {},
   "outputs": [
    {
     "data": {
      "text/plain": [
       "False"
      ]
     },
     "execution_count": 39,
     "metadata": {},
     "output_type": "execute_result"
    }
   ],
   "source": [
    "zip_code = df[df['Incident Zip']==10019.0]\n",
    "zip_complaint_type = zip_code['Complaint Type']\n",
    "\n",
    "zip_incidents = zip_complaint_type.value_counts()\n",
    "zip_parking_incidents = zip_incidents['Illegal Parking']\n",
    "total_zip_incidents = zip_incidents.sum()\n",
    "zip_proportion = zip_parking_incidents/total_zip_incidents\n",
    "\n",
    "complaint_type = df['Complaint Type']\n",
    "global_incidents = complaint_type.value_counts()\n",
    "global_parking_incidents = global_incidents['Illegal Parking']\n",
    "global_total_incidents = global_incidents.sum()\n",
    "global_proportion = global_parking_incidents/global_total_incidents\n",
    "\n",
    "higher_parking_proportion = zip_proportion > global_proportion\n",
    "higher_parking_proportion\n",
    "\n",
    "\n"
   ]
  },
  {
   "cell_type": "code",
   "execution_count": null,
   "id": "bd44fe73-89ac-43b6-ad64-020404b4607c",
   "metadata": {},
   "outputs": [],
   "source": []
  }
 ],
 "metadata": {
  "kernelspec": {
   "display_name": "Python 3",
   "language": "python",
   "name": "python3"
  },
  "language_info": {
   "codemirror_mode": {
    "name": "ipython",
    "version": 3
   },
   "file_extension": ".py",
   "mimetype": "text/x-python",
   "name": "python",
   "nbconvert_exporter": "python",
   "pygments_lexer": "ipython3",
   "version": "3.8.8"
  }
 },
 "nbformat": 4,
 "nbformat_minor": 5
}
