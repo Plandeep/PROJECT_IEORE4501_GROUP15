{
 "cells": [
  {
   "cell_type": "code",
   "execution_count": null,
   "id": "5f26345b-8eb9-4554-b98b-0877eae2e44e",
   "metadata": {},
   "outputs": [],
   "source": []
  },
  {
   "cell_type": "code",
   "execution_count": 10,
   "id": "426dfea6-fad5-418d-bc89-93148341755e",
   "metadata": {},
   "outputs": [],
   "source": [
    "import csv\n",
    "import numpy as np\n",
    "import pandas as pd\n",
    "\n",
    "\n",
    "\n",
    "\n",
    "df = pd.read_csv(\"311_Service_Requests_2020.csv\")\n"
   ]
  },
  {
   "cell_type": "code",
   "execution_count": 72,
   "id": "7c655d6c-4bca-47b6-a002-e506bab420e9",
   "metadata": {},
   "outputs": [],
   "source": []
  },
  {
   "cell_type": "code",
   "execution_count": 73,
   "id": "ed03e0a8-4011-4d36-afdf-6bb1c22949c0",
   "metadata": {},
   "outputs": [
    {
     "data": {
      "text/plain": [
       "Noise - Street/Sidewalk                1299\n",
       "Noise - Residential                    1144\n",
       "Homeless Person Assistance             1116\n",
       "Noise                                  1066\n",
       "Illegal Parking                         998\n",
       "HEAT/HOT WATER                          866\n",
       "Noise - Commercial                      811\n",
       "Non-Emergency Police Matter             776\n",
       "Homeless Street Condition               658\n",
       "NonCompliance with Phased Reopening     620\n",
       "Name: Complaint Type, dtype: int64"
      ]
     },
     "execution_count": 73,
     "metadata": {},
     "output_type": "execute_result"
    }
   ],
   "source": [
    "zip_code = df[df['Incident Zip']==10019.0]\n",
    "complaint_type = pd.Series(zip_code['Complaint Type'])\n",
    "rank = complaint_type.value_counts()\n",
    "top = rank.sort_values(ascending=False)\n",
    "top10 = top[:10]\n",
    "\n",
    "\n",
    "top10\n"
   ]
  },
  {
   "cell_type": "code",
   "execution_count": null,
   "id": "7aecda53-d192-4dde-8421-337be8ad93e4",
   "metadata": {},
   "outputs": [],
   "source": []
  },
  {
   "cell_type": "code",
   "execution_count": null,
   "id": "379a2489-13b3-447b-b781-ac19b8b4373a",
   "metadata": {
    "editable": false,
    "nbgrader": {
     "cell_type": "code",
     "checksum": "7ab0d46e493f8d756572e368cf4d4abf",
     "grade": true,
     "grade_id": "cell-00a6361dd89d002a",
     "locked": true,
     "points": 1,
     "schema_version": 3,
     "solution": false,
     "task": false
    }
   },
   "outputs": [],
   "source": []
  },
  {
   "cell_type": "code",
   "execution_count": null,
   "id": "e85b3e7b-f78c-4b41-9802-b2f96f5dbade",
   "metadata": {},
   "outputs": [],
   "source": []
  }
 ],
 "metadata": {
  "kernelspec": {
   "display_name": "Python 3",
   "language": "python",
   "name": "python3"
  },
  "language_info": {
   "codemirror_mode": {
    "name": "ipython",
    "version": 3
   },
   "file_extension": ".py",
   "mimetype": "text/x-python",
   "name": "python",
   "nbconvert_exporter": "python",
   "pygments_lexer": "ipython3",
   "version": "3.8.8"
  }
 },
 "nbformat": 4,
 "nbformat_minor": 5
}
